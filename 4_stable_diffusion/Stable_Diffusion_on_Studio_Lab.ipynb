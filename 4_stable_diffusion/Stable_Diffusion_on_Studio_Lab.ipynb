{
 "cells": [
  {
   "cell_type": "markdown",
   "id": "a30f80de-b0be-4ddc-a938-1d7404515c87",
   "metadata": {},
   "source": [
    "# Stable Diffusion v2 on SageMaker Studio Lab\n",
    "In this notebook we'll get you onboarded to Stable Diffusion v2 in no time. For more details on the model, see Stability release notes [here](https://stability.ai/blog/stable-diffusion-v2-release). For details about using the `StableDiffusionPipeline` see the `diffusers` notes [here](https://huggingface.co/stabilityai/stable-diffusion-2).\n",
    "\n",
    "For best performance, make sure you're using a GPU instance.\n",
    "\n",
    "[![Open in SageMaker Studio Lab](https://studiolab.sagemaker.aws/studiolab.svg)](https://studiolab.sagemaker.aws/import/github/aws-samples/sagemaker-distributed-training-workshop/blob/main/4_stable_diffusion/Stable_Diffusion_on_Studio_Lab.ipynb)"
   ]
  },
  {
   "cell_type": "markdown",
   "id": "55cb7192-5128-423e-9307-e32b355c77e2",
   "metadata": {},
   "source": [
    "### Step 1. Install libraries"
   ]
  },
  {
   "cell_type": "code",
   "execution_count": null,
   "id": "d8533418-1e60-4913-bacf-63889a75d6ec",
   "metadata": {
    "tags": []
   },
   "outputs": [],
   "source": [
    "%pip install torch\n",
    "%pip install diffusers\n",
    "%pip install --upgrade transformers\n",
    "%pip install accelerate"
   ]
  },
  {
   "cell_type": "markdown",
   "id": "d3b56eb6-7b4f-4ec3-b8f3-5ce5811f6042",
   "metadata": {},
   "source": [
    "### Step 2. Download the base model"
   ]
  },
  {
   "cell_type": "code",
   "execution_count": null,
   "id": "3685a73b-8d37-4c02-ba6c-a8c3867de106",
   "metadata": {},
   "outputs": [],
   "source": [
    "import torch\n",
    "from diffusers import StableDiffusionPipeline, EulerDiscreteScheduler\n",
    "\n",
    "model_id = \"stabilityai/stable-diffusion-2\"\n",
    "\n",
    "# Use the Euler scheduler here instead\n",
    "scheduler = EulerDiscreteScheduler.from_pretrained(model_id, subfolder=\"scheduler\")\n",
    "pipe = StableDiffusionPipeline.from_pretrained(model_id, scheduler=scheduler, revision=\"fp16\", torch_dtype=torch.float16)\n",
    "pipe = pipe.to(\"cuda\")"
   ]
  },
  {
   "cell_type": "markdown",
   "id": "c88cf2cb-db86-4900-b902-3a2e8231e8de",
   "metadata": {},
   "source": [
    "### Step 3. Write your prompt and image name\n",
    "I like tracking which image result is associated with the prompt, so to make it easy, you can track these for yourself here as well."
   ]
  },
  {
   "cell_type": "code",
   "execution_count": null,
   "id": "a9baa3ef-7f83-4c6f-b5f1-ae69e2530658",
   "metadata": {},
   "outputs": [],
   "source": [
    "prompt = \"a photo of a girl astronaut surfing a wave\"\n",
    "\n",
    "take = 0\n",
    "\n",
    "image_name = \"girl_astronaut_{}.png\".format(take)"
   ]
  },
  {
   "cell_type": "markdown",
   "id": "5343ffe7-58c8-4511-8053-c61672b25991",
   "metadata": {},
   "source": [
    "### Step 4. Generate a new image!"
   ]
  },
  {
   "cell_type": "code",
   "execution_count": null,
   "id": "047f63a8-3b7e-4ee3-b027-5388275bd1fe",
   "metadata": {
    "tags": []
   },
   "outputs": [],
   "source": [
    "image = pipe(prompt, height=768, width=768).images[0]\n",
    "    \n",
    "image.save(image_name)"
   ]
  },
  {
   "cell_type": "markdown",
   "id": "2a6c3c85-081a-4bea-aada-05bbfe310c1a",
   "metadata": {},
   "source": [
    "### Step 5. Render your image"
   ]
  },
  {
   "cell_type": "code",
   "execution_count": null,
   "id": "018b0e82-bec2-4182-bc36-6138bda6a9a0",
   "metadata": {},
   "outputs": [],
   "source": [
    "from IPython.display import Image\n",
    "Image(image_name)"
   ]
  },
  {
   "cell_type": "markdown",
   "id": "88b96412-401f-4e83-ad1b-4b0062055b96",
   "metadata": {},
   "source": [
    "### Step 6. Dream!\n",
    "And that's a wrap! I hope you enjoyed this short and sweet notebook. Let me know what else you'd like to see; I'm always curious to partner with developers and customers to design the future of artificial intelligence. That takes all of us!"
   ]
  }
 ],
 "metadata": {
  "kernelspec": {
   "display_name": "default:Python",
   "language": "python",
   "name": "conda-env-default-py"
  },
  "language_info": {
   "codemirror_mode": {
    "name": "ipython",
    "version": 3
   },
   "file_extension": ".py",
   "mimetype": "text/x-python",
   "name": "python",
   "nbconvert_exporter": "python",
   "pygments_lexer": "ipython3",
   "version": "3.9.12"
  }
 },
 "nbformat": 4,
 "nbformat_minor": 5
}
